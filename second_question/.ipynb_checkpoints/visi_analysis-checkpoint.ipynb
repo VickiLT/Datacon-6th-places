{
 "cells": [
  {
   "cell_type": "code",
   "execution_count": null,
   "metadata": {},
   "outputs": [],
   "source": [
    "##by ltecho@whu.edu.cn\n",
    "##\n",
    "import pandas as pd\n",
    "import numpy as np"
   ]
  },
  {
   "cell_type": "code",
   "execution_count": null,
   "metadata": {},
   "outputs": [],
   "source": [
    "from pyecharts import Graph\n",
    "ip_data_cluster = pd.read_csv('ip_file\\\\ip_data_friends.csv',delimiter=',',encoding='utf-8',dtype='str')\n",
    "mid_nodes = []\n",
    "mid_links = []\n",
    "mid_nodes_set = set()\n",
    "bind_domain_nodes = []\n",
    "bind_domain_links = []\n",
    "bind_domain_nodes_set = set()\n",
    "attack_file_nodes = []\n",
    "attack_file_links = []\n",
    "attack_file_nodes_set = set()\n",
    "\n",
    "for index,ip_data in ip_data_cluster.iterrows():\n",
    "    #nodes.append({\"name\":ip_data.ip,\"symbolSize\":5})\n",
    "    if str(ip_data.mid_friends_list)!=\"set()\" and str(ip_data.mid_friends_list)!='nan':\n",
    "        #print(ip_data.mid_friends_list)\n",
    "        mid_friends_list = eval(ip_data.mid_friends_list)\n",
    "        mid_nodes_set.add(ip_data.ip)\n",
    "        for k in mid_friends_list:\n",
    "            mid_nodes_set.add(k)\n",
    "            mid_links.append({\"source\":ip_data.ip,\"target\":k})\n",
    "    if str(ip_data.bind_domain_friends_list)!=\"set()\" and str(ip_data.bind_domain_friends_list)!='nan':\n",
    "        #print(ip_data.mid_friends_list)\n",
    "        bind_domain_friends_list = eval(ip_data.bind_domain_friends_list)\n",
    "        bind_domain_nodes_set.add(ip_data.ip)\n",
    "        for k in bind_domain_friends_list:\n",
    "            bind_domain_nodes_set.add(k)\n",
    "            bind_domain_links.append({\"source\":ip_data.ip,\"target\":k})\n",
    "    if str(ip_data.attack_file_friends_list)!=\"set()\" and str(ip_data.attack_file_friends_list)!='nan':\n",
    "        #print(ip_data.mid_friends_list)\n",
    "        attack_file_friends_list = eval(ip_data.attack_file_friends_list)\n",
    "        attack_file_nodes_set.add(ip_data.ip)\n",
    "        for k in attack_file_friends_list:\n",
    "            attack_file_nodes_set.add(k)\n",
    "            attack_file_links.append({\"source\":ip_data.ip,\"target\":k})\n",
    "\n",
    "            \n",
    "for j in mid_nodes_set:\n",
    "    mid_nodes.append({\"name\":j,\"symbolSize\":5})\n",
    "    \n",
    "for z in bind_domain_nodes_set:\n",
    "    bind_domain_nodes.append({\"name\":z,\"symbolSize\":5})\n",
    "for z in attack_file_nodes_set:\n",
    "    attack_file_nodes.append({\"name\":z,\"symbolSize\":5})\n"
   ]
  },
  {
   "cell_type": "code",
   "execution_count": null,
   "metadata": {},
   "outputs": [],
   "source": [
    "    \n",
    "print('终端指纹ip节点数：'+str(len(mid_nodes)))\n",
    "print('终端指纹ip关系数：'+str(len(mid_links)))\n",
    "print('恶意样本ip节点数：'+str(len(attack_file_nodes)))\n",
    "print('恶意样本ip关系数：'+str(len(attack_file_links)))\n",
    "print('绑定域名ip节点数：'+str(len(bind_domain_nodes)))\n",
    "print('绑定域名ip关系数：'+str(len(bind_domain_links)))"
   ]
  },
  {
   "cell_type": "code",
   "execution_count": null,
   "metadata": {},
   "outputs": [],
   "source": [
    "len(attack_file_nodes)"
   ]
  },
  {
   "cell_type": "code",
   "execution_count": null,
   "metadata": {},
   "outputs": [],
   "source": [
    "mid_graph = Graph(\"终端指纹力导图\",width = 1800, height=1400)\n",
    "mid_graph.add(\n",
    "    \"\",\n",
    "    mid_nodes,\n",
    "    mid_links,\n",
    "    graph_layout = \"force\",\n",
    "    label_pos = \"right\",\n",
    "    graph_repulsion = 10,\n",
    "    line_curve = 0.2,\n",
    ")"
   ]
  },
  {
   "cell_type": "code",
   "execution_count": null,
   "metadata": {},
   "outputs": [],
   "source": [
    "mid_graph.render('ip_file\\\\终端指纹力导图.html')"
   ]
  },
  {
   "cell_type": "code",
   "execution_count": null,
   "metadata": {},
   "outputs": [],
   "source": [
    "bind_domain_graph = Graph(\"绑定域名力导图\",width = 1800, height=1400)\n",
    "bind_domain_graph.add(\n",
    "    \"\",\n",
    "    bind_domain_nodes,\n",
    "    bind_domain_links,\n",
    "    graph_layout = \"force\",\n",
    "    label_pos = \"right\",\n",
    "    graph_repulsion = 10,\n",
    "    line_curve = 0.2,\n",
    ")"
   ]
  },
  {
   "cell_type": "code",
   "execution_count": null,
   "metadata": {},
   "outputs": [],
   "source": [
    "bind_domain_graph.render('ip_file\\\\绑定域名力导图.html')"
   ]
  },
  {
   "cell_type": "code",
   "execution_count": null,
   "metadata": {},
   "outputs": [],
   "source": [
    "attack_file_graph = Graph(\"恶意样本力导图\",width = 1800, height=1400)\n",
    "attack_file_graph.add(\n",
    "    \"\",\n",
    "    attack_file_nodes,\n",
    "    attack_file_links,\n",
    "    graph_layout = \"force\",\n",
    "    label_pos = \"right\",\n",
    "    graph_repulsion = 10,\n",
    "    line_curve = 0.2,\n",
    ")"
   ]
  },
  {
   "cell_type": "code",
   "execution_count": null,
   "metadata": {},
   "outputs": [],
   "source": [
    "attack_file_graph.render('ip_file\\\\恶意样本力导图.html')"
   ]
  },
  {
   "cell_type": "code",
   "execution_count": null,
   "metadata": {},
   "outputs": [],
   "source": [
    "#结合三种关联关系分析，进一步得到攻击者和攻击机构的关系网\n",
    "#得到恶意样本控制中心IP列表\n",
    "attack_file_df = pd.DataFrame(attack_file_links)\n",
    "attacker_file_df_counts = attack_file_df.groupby('source').count()\n",
    "attacker_file_df_counts = attacker_file_df_counts.reset_index()\n",
    "attacker_file_df_counts.rename(columns={'target':'target_number'},inplace=True)\n",
    "#终端指纹关系列表\n",
    "mid_df = pd.DataFrame(mid_links)\n",
    "#得到终端指纹关系中，源ip为恶意样本控制中心的关系数据\n",
    "mid_attack_file_df = pd.merge(mid_df,attacker_file_df_counts,on='source',how='left')\n",
    "attacker_file_df_counts['target'] = attacker_file_df_counts['source'].apply(lambda x:x)\n",
    "mid_attack_file_df.dropna(axis=0,how='any',inplace=True)\n",
    "#得到终端关系中，目标ip为恶意样本控制中心的关系数据\n",
    "attack_file_df_target = attacker_file_df_counts[['target','target_number']]\n",
    "mid_attack_file_df2 = pd.merge(mid_df,attack_file_df_target,on='target',how='left')\n",
    "mid_attack_file_df2.dropna(axis=0,how='any',inplace=True)\n",
    "#拼接两份关系数据，得到终端指纹和恶意样本关系的关联数据\n",
    "mid_attack_file_frames = [mid_attack_file_df,mid_attack_file_df2]\n",
    "mid_attack_file_data = pd.concat(mid_attack_file_frames,keys=['s','t'])"
   ]
  },
  {
   "cell_type": "code",
   "execution_count": null,
   "metadata": {},
   "outputs": [],
   "source": [
    "##可视化查看\n",
    "attacker_file_df_counts.sort_values(by='source')\n",
    "mid_attack_file_data.query('source ==\"120.200.167.93\"').sort_values(by='target')"
   ]
  },
  {
   "cell_type": "code",
   "execution_count": null,
   "metadata": {},
   "outputs": [],
   "source": []
  }
 ],
 "metadata": {
  "kernelspec": {
   "display_name": "Python 3",
   "language": "python",
   "name": "python3"
  },
  "language_info": {
   "codemirror_mode": {
    "name": "ipython",
    "version": 3
   },
   "file_extension": ".py",
   "mimetype": "text/x-python",
   "name": "python",
   "nbconvert_exporter": "python",
   "pygments_lexer": "ipython3",
   "version": "3.7.1"
  }
 },
 "nbformat": 4,
 "nbformat_minor": 2
}
