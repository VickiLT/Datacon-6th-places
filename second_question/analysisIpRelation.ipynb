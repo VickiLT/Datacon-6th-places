{
 "cells": [
  {
   "cell_type": "code",
   "execution_count": 1,
   "metadata": {},
   "outputs": [],
   "source": [
    "##by ltecho@whu.edu.cn\n",
    "##\n",
    "import pandas as pd\n",
    "import numpy as np"
   ]
  },
  {
   "cell_type": "code",
   "execution_count": 2,
   "metadata": {},
   "outputs": [],
   "source": [
    "#ip投放恶意样本数据，包含终端指纹，恶意样本名\n",
    "ip_attack_file = pd.read_csv('ip_file\\\\ip_attack_file.csv',delimiter=',',encoding='utf-8')\n",
    "#ip绑定过域名数据\n",
    "ip_domain = pd.read_csv('ip_file\\\\ip_domain.csv',delimiter=',',encoding='utf-8')\n",
    "#ip解析过域名数据\n",
    "ip_log_dns_cate = pd.read_csv('ip_file\\\\ip_log_dns_cate.csv',delimiter=',',encoding='utf-8')"
   ]
  },
  {
   "cell_type": "code",
   "execution_count": 3,
   "metadata": {},
   "outputs": [],
   "source": [
    "#整理ip终端恶意样本数据，按ip分组将多条记录数据组合，获取ip一一对应的终端指纹列表，投放过的恶意样本列表\n",
    "ip_list = ip_attack_file['ip'].value_counts()\n",
    "ip_list = pd.DataFrame(ip_list)\n",
    "ip_list = ip_list.reset_index()\n",
    "ip_list.rename(columns={'ip':'number','index':'ip_r'},inplace=True)\n",
    "ip_list.rename(columns={'ip_r':'ip'},inplace=True)\n",
    "ip_attack_file_cluster = []\n",
    "file_name=np.repeat('',ip_list.shape[0])\n",
    "ip_list['file_name']=file_name\n",
    "mid_list=np.repeat('',ip_list.shape[0])\n",
    "ip_list['mid_list']=mid_list\n",
    "##获取ip，检测到的恶意文件名 列表，和终端指纹列表\n",
    "for index,ip_df in ip_list.iterrows():\n",
    "    ip_s = ip_df['ip']\n",
    "    ip_attacks = ip_attack_file[ip_attack_file.ip==ip_s]['file_name'].value_counts()\n",
    "    mid_attacks = ip_attack_file[ip_attack_file.ip==ip_s]['mid'].value_counts()\n",
    "    ip_attacks = pd.DataFrame(ip_attacks)\n",
    "    ip_attacks = ip_attacks.reset_index()\n",
    "    mid_attacks = pd.DataFrame(mid_attacks)\n",
    "    mid_attacks = mid_attacks.reset_index()\n",
    "    file_name_set = set()\n",
    "    mid_set = set()\n",
    "    for index,mid_attack in mid_attacks.iterrows():\n",
    "        mid_str = str(mid_attack['index'])\n",
    "        mid_set.add(mid_str)\n",
    "    for index,ip_attack in ip_attacks.iterrows():\n",
    "        attack_str = str(ip_attack['index'])\n",
    "        file_list = eval(attack_str)\n",
    "        for k in range(0, len(file_list)):\n",
    "            file_name_set.add(file_list[k].strip())\n",
    "    ip_list.at[index,'file_name'] = file_name_set \n",
    "    ip_list.at[index,'mid_list'] = mid_set \n",
    "ip_list.to_csv('ip_file\\\\ip_attack_file_name.csv',index=0)"
   ]
  },
  {
   "cell_type": "code",
   "execution_count": 4,
   "metadata": {},
   "outputs": [],
   "source": [
    "#处理ip绑定域名数据，按ip分组，从多条记录中提取出域名，组合成绑定过域名列表\n",
    "ip_domain.drop(columns=['date','ip'],axis=1,inplace=True)\n",
    "ip_domain.rename(columns={'source_ip':'ip'},inplace=True)\n",
    "ip_domain.drop_duplicates(inplace=True)\n",
    "ip_domain_cluster = ip_domain.groupby(['ip']).aggregate(lambda x:list(x))\n",
    "ip_domain_cluster = ip_domain_cluster.reset_index()"
   ]
  },
  {
   "cell_type": "code",
   "execution_count": 5,
   "metadata": {},
   "outputs": [],
   "source": [
    "#处理ip解析域名数据，按ip分组，从多条记录中提取出域名，组合成解析过域名列表\n",
    "ip_log_dns_cate.drop(columns=['date'],axis=1,inplace=True)\n",
    "ip_log_dns_cate.drop_duplicates(inplace=True)\n",
    "ip_dns_cate_cluster = ip_log_dns_cate.groupby(['ip']).aggregate(lambda x:set(x))\n",
    "ip_dns_cate_cluster = ip_dns_cate_cluster.reset_index()"
   ]
  },
  {
   "cell_type": "code",
   "execution_count": 7,
   "metadata": {},
   "outputs": [],
   "source": [
    "#读取日志中存在的ip，作为其他数据筛选的依据\n",
    "ip_data=pd.read_csv('ip_file\\\\result.csv',delimiter=',',encoding='utf-8')\n",
    "#ip_data.drop(columns=['reason'],axis=1,inplace=True)\n",
    "ip_data.rename(columns={'file_id':'ip'},inplace=True)"
   ]
  },
  {
   "cell_type": "code",
   "execution_count": 8,
   "metadata": {},
   "outputs": [],
   "source": [
    "#集成以上数据，得到可做聚类分析的ip数据\n",
    "ip_data_cluster = pd.merge(ip_data,ip_list,on='ip',how='left')\n",
    "ip_data_cluster = pd.merge(ip_data_cluster,ip_domain_cluster,on='ip',how='left')\n",
    "ip_data_cluster = pd.merge(ip_data_cluster,ip_dns_cate_cluster,on='ip',how='left')\n",
    "ip_data_cluster.rename(columns={'number':'attack_file_number','file_name':'attack_file_list','domain_name':'resolve_domain_list','domain':'bind_domain_list'},inplace=True)\n",
    "ip_data_cluster.drop(columns=['is_attacker','resolve_number'],axis=1,inplace=True)\n",
    "ip_data_cluster.to_csv('ip_file\\\\ip_data_cluster.csv',index=0)"
   ]
  },
  {
   "cell_type": "code",
   "execution_count": 9,
   "metadata": {},
   "outputs": [
    {
     "name": "stdout",
     "output_type": "stream",
     "text": [
      "<class 'pandas.core.frame.DataFrame'>\n",
      "Int64Index: 5879 entries, 0 to 5878\n",
      "Data columns (total 8 columns):\n",
      "ip                     5879 non-null object\n",
      "reason                 4236 non-null object\n",
      "attack_file_number     5642 non-null float64\n",
      "attack_file_list       5642 non-null object\n",
      "mid_list               5642 non-null object\n",
      "bind_domain_list       143 non-null object\n",
      "resolve_domain_list    4625 non-null object\n",
      "domain_category        4625 non-null object\n",
      "dtypes: float64(1), object(7)\n",
      "memory usage: 413.4+ KB\n"
     ]
    }
   ],
   "source": [
    "ip_data_cluster.info()"
   ]
  },
  {
   "cell_type": "code",
   "execution_count": null,
   "metadata": {},
   "outputs": [],
   "source": []
  },
  {
   "cell_type": "code",
   "execution_count": null,
   "metadata": {},
   "outputs": [],
   "source": [
    "#ip_data_cluster = pd.read_csv('ip_file\\\\ip_data_cluster.csv',delimiter=',',encoding='utf-8')\n",
    "###计算关联关系脚本，获得各个ip的关联ip列表\n",
    "ip_data_cluster['mid_list'] = ip_data_cluster['mid_list'].astype(str)\n",
    "ip_data_cluster['attack_file_list'] = ip_data_cluster['attack_file_list'].astype(str)\n",
    "ip_data_cluster['bind_domain_list'] = ip_data_cluster['bind_domain_list'].astype(str)\n",
    "ip_data_cluster['resolve_domain_list'] = ip_data_cluster['resolve_domain_list'].astype(str)\n",
    "temp_list=np.repeat('',ip_data_cluster.shape[0])\n",
    "ip_data_cluster['mid_friends_list']= temp_list\n",
    "ip_data_cluster['attack_file_friends_list']= temp_list\n",
    "ip_data_cluster['bind_domain_friends_list']= temp_list\n",
    "ip_data_cluster['resolve_domain_friends_list']= temp_list\n",
    "for index,ip_data in ip_data_cluster.iterrows():\n",
    "    if ip_data.mid_list != 'nan' and ip_data.mid_list:\n",
    "        print(ip_data.mid_list)\n",
    "        mid_list = eval(ip_data.mid_list)\n",
    "        mid_friends_list = set()\n",
    "        print('one ip'+ip_data.ip)\n",
    "        for k in mid_list:\n",
    "            query_datas = ip_data_cluster.loc[ip_data_cluster['mid_list'].str.contains(k)]\n",
    "            for index,query_data in query_datas.iterrows():\n",
    "                if query_data.ip != ip_data.ip:\n",
    "                    mid_friends_list.add(query_data.ip)\n",
    "        if len(mid_friends_list)>0:\n",
    "            ip_data_cluster.at[index,'mid_friends_list'] = mid_friends_list\n",
    "        print(mid_friends_list)\n",
    "    if ip_data.attack_file_list != 'nan' and ip_data.attack_file_list:\n",
    "        attack_file_list = eval(ip_data.attack_file_list)\n",
    "        attack_file_friends_list = set()\n",
    "        #print(attack_file_list)\n",
    "        for k in attack_file_list:\n",
    "            #print(k)\n",
    "            try:\n",
    "                query_datas = ip_data_cluster.loc[ip_data_cluster['attack_file_list'].str.contains(str(k))]\n",
    "                #print(query_datas)\n",
    "                for index,query_data in query_datas.iterrows():\n",
    "                    if query_data.ip != ip_data.ip:\n",
    "                        attack_file_friends_list.add(query_data.ip)\n",
    "            except:\n",
    "                continue\n",
    "        if len(attack_file_friends_list)>0:\n",
    "            print('sucess')\n",
    "            ip_data_cluster.at[index,'attack_file_friends_list'] = attack_file_friends_list \n",
    "        #print(attack_file_friends_list)\n",
    "    if ip_data.bind_domain_list != 'nan' and ip_data.bind_domain_list:\n",
    "        print(ip_data.bind_domain_list)\n",
    "        bind_domain_list = eval(ip_data.bind_domain_list)\n",
    "        bind_domain_friends_list = set()\n",
    "        for k in bind_domain_list:\n",
    "            query_datas = ip_data_cluster.loc[ip_data_cluster['bind_domain_list'].str.contains(str(k))]\n",
    "            #print(query_datas)\n",
    "            for index,query_data in query_datas.iterrows():\n",
    "                if query_data.ip != ip_data.ip:\n",
    "                    bind_domain_friends_list.add(query_data.ip)\n",
    "        if len(bind_domain_friends_list)>0:\n",
    "            ip_data_cluster.at[index,'bind_domain_friends_list'] = bind_domain_friends_list\n",
    "        #print(bind_domain_friends_list)\n",
    "#     if ip_data.resolve_domain_list != 'nan':\n",
    "#         resolve_domain_list = eval(ip_data.resolve_domain_list)\n",
    "#         #print(ip_data.resolve_domain_list)\n",
    "#         resolve_domain_friends_list = set()\n",
    "#         for k in resolve_domain_list:\n",
    "#             print(k)\n",
    "#             query_datas = ip_data_cluster.loc[ip_data_cluster['resolve_domain_list'].str.contains(k)]\n",
    "#             for index,query_data in query_datas.iterrows():\n",
    "#                 if query_data.ip != ip_data.ip:\n",
    "#                     resolve_domain_friends_list.add(query_data.ip)\n",
    "#         if len(resolve_domain_friends_list)>0:\n",
    "#             ip_data_cluster.at[index,'resolve_domain_friends_list'] = resolve_domain_friends_list\n",
    "        #print(resolve_domain_friends_list)\n",
    "    \n",
    "ip_data_cluster.to_csv('ip_data_friends.csv',index=0)"
   ]
  }
 ],
 "metadata": {
  "kernelspec": {
   "display_name": "Python 3",
   "language": "python",
   "name": "python3"
  },
  "language_info": {
   "codemirror_mode": {
    "name": "ipython",
    "version": 3
   },
   "file_extension": ".py",
   "mimetype": "text/x-python",
   "name": "python",
   "nbconvert_exporter": "python",
   "pygments_lexer": "ipython3",
   "version": "3.7.1"
  }
 },
 "nbformat": 4,
 "nbformat_minor": 2
}
